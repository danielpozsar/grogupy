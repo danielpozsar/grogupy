{
 "cells": [
  {
   "cell_type": "markdown",
   "metadata": {},
   "source": [
    "# Calculate magnetic parameters"
   ]
  },
  {
   "cell_type": "markdown",
   "metadata": {},
   "source": [
    "grogupy is specifically written in a modular way, to fully take advantage of python classes. In this simple example we show how to use grogupy to simulate the magnetic interaction between two atoms from a density functional theory (DFT) calculation and create an output file for [magnopy](https://docs.magnopy.org/en/latest/user-guide/start/about.html). In this example we will use a non-collinear Siesta calculation of the Fe3GeTe2 system with spin-orbit coupling."
   ]
  },
  {
   "cell_type": "markdown",
   "metadata": {},
   "source": [
    "First import grogupy, which will import the most important classes, functions and variables in its namespace."
   ]
  },
  {
   "cell_type": "code",
   "execution_count": 1,
   "metadata": {},
   "outputs": [
    {
     "name": "stderr",
     "output_type": "stream",
     "text": [
      "/Users/danielpozsar/Documents/studies/elte/phd/grogu/.venv/lib/python3.12/site-packages/grogupy/_tqdm.py:26: TqdmExperimentalWarning: Using `tqdm.autonotebook.tqdm` in notebook mode. Use `tqdm.tqdm` instead to force console mode (e.g. in jupyter console)\n",
      "  from tqdm.autonotebook import tqdm\n"
     ]
    }
   ],
   "source": [
    "import grogupy"
   ]
  },
  {
   "cell_type": "markdown",
   "metadata": {},
   "source": [
    "Then we start to create the basic classes based on the desired parameters. First create the ``Kspace`` class which contains the parameters fot the Brillouin zone integration. Because in this case we only take a single layer of Fe3GeTe2 and there is a large vacuum in the perpendicular direction it is sufficient to only \n",
    "integrate in the plane of the material. Furthermore for a fast initial calculation a 10x10 grid of k-points should be enough."
   ]
  },
  {
   "cell_type": "code",
   "execution_count": 2,
   "metadata": {},
   "outputs": [
    {
     "data": {
      "text/plain": [
       "<grogupy.Kspace kset=[10 10  1], NK=100>"
      ]
     },
     "execution_count": 2,
     "metadata": {},
     "output_type": "execute_result"
    }
   ],
   "source": [
    "Fe3GeTe2_kspace = grogupy.Kspace(kset=[10, 10, 1])\n",
    "Fe3GeTe2_kspace"
   ]
  },
  {
   "cell_type": "markdown",
   "metadata": {},
   "source": [
    "Then we would like to set the parameters for the complex integral for the Green's \n",
    "function calculation. This can be done through the ``Contour`` class. Again, for an \n",
    "initial calculation 300 sample points should be enough. The energy minimum should be \n",
    "set below the smallest eigenvalue from the Siesta Hamiltonian.\n"
   ]
  },
  {
   "cell_type": "code",
   "execution_count": 3,
   "metadata": {},
   "outputs": [
    {
     "data": {
      "text/plain": [
       "<grogupy.Contour emin=-20, emax=0, eset=300, esetp=10000>"
      ]
     },
     "execution_count": 3,
     "metadata": {},
     "output_type": "execute_result"
    }
   ],
   "source": [
    "Fe3GeTe2_contour = grogupy.Contour(emin=-15, eset=300, esetp=10000)\n",
    "Fe3GeTe2_contour"
   ]
  },
  {
   "cell_type": "markdown",
   "metadata": {},
   "source": [
    "Then we can create the ``Hamiltonian`` class, which extracts and stores the Hamiltonian \n",
    "and geometrical data from the Siesta files using the ``sisl`` library. Furthermore we must \n",
    "provide the exchange field orientation in the DFT calculation, which is usually the \n",
    "perpendicular direction from the 2D material.\n"
   ]
  },
  {
   "cell_type": "code",
   "execution_count": 4,
   "metadata": {},
   "outputs": [
    {
     "data": {
      "application/vnd.jupyter.widget-view+json": {
       "model_id": "557d7a3986e249cbb17fb77b578f1d15",
       "version_major": 2,
       "version_minor": 0
      },
      "text/plain": [
       "Setting up Hamiltonian:   0%|          | 0/243 [00:00<?, ?it/s]"
      ]
     },
     "metadata": {},
     "output_type": "display_data"
    },
    {
     "data": {
      "text/plain": [
       "<grogupy.Hamiltonian scf_xcf_orientation=[0 0 1], orientation=[0, 0, 1], NO=168>"
      ]
     },
     "execution_count": 4,
     "metadata": {},
     "output_type": "execute_result"
    }
   ],
   "source": [
    "Fe3GeTe2_hamiltonian = grogupy.Hamiltonian(\n",
    "    infile=\"./../../../benchmarks/Fe3GeTe2/Fe3GeTe2.fdf\",\n",
    "    scf_xcf_orientation=[0, 0, 1],\n",
    ")\n",
    "Fe3GeTe2_hamiltonian"
   ]
  },
  {
   "cell_type": "markdown",
   "metadata": {},
   "source": [
    "After these initial steps we can create the ``Builder`` class and initialize with the \n",
    "above information. We have to provide the directions of the rotated exchange field and the \n",
    "two perpendicular directions are calculated automatically.\n"
   ]
  },
  {
   "cell_type": "code",
   "execution_count": 5,
   "metadata": {},
   "outputs": [
    {
     "data": {
      "text/plain": [
       "<grogupy.Builder npairs=0, numk=100, kset=[10 10  1], eset=300>"
      ]
     },
     "execution_count": 5,
     "metadata": {},
     "output_type": "execute_result"
    }
   ],
   "source": [
    "orientations = [[1, 0, 0], [0, 1, 0], [0, 0, 1]]\n",
    "\n",
    "Fe3GeTe2 = grogupy.Builder(ref_xcf_orientations=orientations)\n",
    "Fe3GeTe2.add_kspace(Fe3GeTe2_kspace)\n",
    "Fe3GeTe2.add_contour(Fe3GeTe2_contour)\n",
    "Fe3GeTe2.add_hamiltonian(Fe3GeTe2_hamiltonian)\n",
    "Fe3GeTe2"
   ]
  },
  {
   "cell_type": "markdown",
   "metadata": {},
   "source": [
    "Then we have to define the magnetic entities, which can be a list of orbitals from the \n",
    "Siesta Hamiltonian. We use ``sisl`` functions to extract this information based on a more \n",
    "human like definition. For example take two shells from two Fe atoms.\n"
   ]
  },
  {
   "cell_type": "code",
   "execution_count": 6,
   "metadata": {},
   "outputs": [],
   "source": [
    "magnetic_entities = [dict(atom=3, l=2), dict(atom=4, l=2)]"
   ]
  },
  {
   "cell_type": "markdown",
   "metadata": {},
   "source": [
    "With this information we can create two ``MagneticEntity`` instances.\n"
   ]
  },
  {
   "cell_type": "code",
   "execution_count": 7,
   "metadata": {},
   "outputs": [
    {
     "data": {
      "application/vnd.jupyter.widget-view+json": {
       "model_id": "d30b857f22ea4e31b2357c7973861bfe",
       "version_major": 2,
       "version_minor": 0
      },
      "text/plain": [
       "Add magnetic entities:   0%|          | 0/2 [00:00<?, ?it/s]"
      ]
     },
     "metadata": {},
     "output_type": "display_data"
    }
   ],
   "source": [
    "magnetic_entities = Fe3GeTe2.create_magnetic_entities(magnetic_entities)\n",
    "Fe3GeTe2.add_magnetic_entities(magnetic_entities)"
   ]
  },
  {
   "cell_type": "markdown",
   "metadata": {},
   "source": [
    "This would be enough to calculate the anisotropy on both sites, but it is not \n",
    "enough to build a spin model, for this we need the exchange tensor between all the pairs. \n",
    "Generally this can be done in a very similar way. First a list of dictionaries must be \n",
    "created, where each dictionary contains ``ai``, ``aj`` and ``Ruc``, where the first two is the \n",
    "index from the magnetic_entities and the third is the supercell shift of the second \n",
    "magnetic entity.\n"
   ]
  },
  {
   "cell_type": "code",
   "execution_count": 8,
   "metadata": {},
   "outputs": [
    {
     "data": {
      "application/vnd.jupyter.widget-view+json": {
       "model_id": "a5df1ca379014cd7abe17787809a1b90",
       "version_major": 2,
       "version_minor": 0
      },
      "text/plain": [
       "Add pairs:   0%|          | 0/2 [00:00<?, ?it/s]"
      ]
     },
     "metadata": {},
     "output_type": "display_data"
    },
    {
     "data": {
      "text/plain": [
       "<grogupy.Builder npairs=2, numk=100, kset=[10 10  1], eset=300>"
      ]
     },
     "execution_count": 8,
     "metadata": {},
     "output_type": "execute_result"
    }
   ],
   "source": [
    "pairs = [\n",
    "    dict(ai=0, aj=1, Ruc=[0, 0, 0]),\n",
    "    dict(ai=0, aj=1, Ruc=[1, 0, 0]),\n",
    "]\n",
    "pairs = Fe3GeTe2.create_pairs(pairs)\n",
    "Fe3GeTe2.add_pairs(pairs)\n",
    "Fe3GeTe2"
   ]
  },
  {
   "cell_type": "markdown",
   "metadata": {},
   "source": [
    "Now every information is contained in the Fe3GeTe2 instance to run the simulation. \n",
    "There are multiple parameters that can be changed to tune the runtime and the precision \n",
    "of the simulation, but for now let us use the default parameters."
   ]
  },
  {
   "cell_type": "code",
   "execution_count": null,
   "metadata": {},
   "outputs": [
    {
     "data": {
      "application/vnd.jupyter.widget-view+json": {
       "model_id": "30ed91db72314a348f3afcfbf92fa08a",
       "version_major": 2,
       "version_minor": 0
      },
      "text/plain": [
       "Extracting exchange field:   0%|          | 0/165 [00:00<?, ?it/s]"
      ]
     },
     "metadata": {},
     "output_type": "display_data"
    },
    {
     "data": {
      "application/vnd.jupyter.widget-view+json": {
       "model_id": "8d8575750da247a69d2d23f21081d1f1",
       "version_major": 2,
       "version_minor": 0
      },
      "text/plain": [
       "Rotating Exchange field:   0%|          | 0/3 [00:00<?, ?it/s]"
      ]
     },
     "metadata": {},
     "output_type": "display_data"
    },
    {
     "data": {
      "application/vnd.jupyter.widget-view+json": {
       "model_id": "7dc723c787a6448584b46b65553590f8",
       "version_major": 2,
       "version_minor": 0
      },
      "text/plain": [
       "Setup magnetic entities for rotated hamiltonian:   0%|          | 0/2 [00:00<?, ?it/s]"
      ]
     },
     "metadata": {},
     "output_type": "display_data"
    },
    {
     "data": {
      "application/vnd.jupyter.widget-view+json": {
       "model_id": "6877ad561d764f2c99f85ea9a0456e67",
       "version_major": 2,
       "version_minor": 0
      },
      "text/plain": [
       "Setup pairs for rotated hamiltonian:   0%|          | 0/2 [00:00<?, ?it/s]"
      ]
     },
     "metadata": {},
     "output_type": "display_data"
    },
    {
     "data": {
      "application/vnd.jupyter.widget-view+json": {
       "model_id": "7e3ab9d60b6e4d788469c1da6619389a",
       "version_major": 2,
       "version_minor": 0
      },
      "text/plain": [
       "Rotation 1, parallel over k on CPU0:   0%|          | 0/100 [00:00<?, ?it/s]"
      ]
     },
     "metadata": {},
     "output_type": "display_data"
    },
    {
     "data": {
      "application/vnd.jupyter.widget-view+json": {
       "model_id": "bc72be775ccb40a4b95ac011c912ca78",
       "version_major": 2,
       "version_minor": 0
      },
      "text/plain": [
       "Extracting exchange field:   0%|          | 0/165 [00:00<?, ?it/s]"
      ]
     },
     "metadata": {},
     "output_type": "display_data"
    },
    {
     "data": {
      "application/vnd.jupyter.widget-view+json": {
       "model_id": "ec99a0ffcc134259a9c4c39c301c44a8",
       "version_major": 2,
       "version_minor": 0
      },
      "text/plain": [
       "Setup perturbations for rotated hamiltonian:   0%|          | 0/2 [00:00<?, ?it/s]"
      ]
     },
     "metadata": {},
     "output_type": "display_data"
    },
    {
     "data": {
      "application/vnd.jupyter.widget-view+json": {
       "model_id": "fc28df591d124786bf55b0dbca181fa8",
       "version_major": 2,
       "version_minor": 0
      },
      "text/plain": [
       "Extracting exchange field:   0%|          | 0/165 [00:00<?, ?it/s]"
      ]
     },
     "metadata": {},
     "output_type": "display_data"
    },
    {
     "data": {
      "application/vnd.jupyter.widget-view+json": {
       "model_id": "4034c12007ba495f8842cb5e01012d2e",
       "version_major": 2,
       "version_minor": 0
      },
      "text/plain": [
       "Setup perturbations for rotated hamiltonian:   0%|          | 0/2 [00:00<?, ?it/s]"
      ]
     },
     "metadata": {},
     "output_type": "display_data"
    },
    {
     "data": {
      "application/vnd.jupyter.widget-view+json": {
       "model_id": "055a016b22444548895b5efd9e1fa949",
       "version_major": 2,
       "version_minor": 0
      },
      "text/plain": [
       "Extracting exchange field:   0%|          | 0/165 [00:00<?, ?it/s]"
      ]
     },
     "metadata": {},
     "output_type": "display_data"
    },
    {
     "data": {
      "application/vnd.jupyter.widget-view+json": {
       "model_id": "7e8e2d2c306844a283c019e85332c592",
       "version_major": 2,
       "version_minor": 0
      },
      "text/plain": [
       "Rotating Exchange field:   0%|          | 0/3 [00:00<?, ?it/s]"
      ]
     },
     "metadata": {},
     "output_type": "display_data"
    },
    {
     "data": {
      "application/vnd.jupyter.widget-view+json": {
       "model_id": "0af3a0f01705418a9d9912ac7738cbc9",
       "version_major": 2,
       "version_minor": 0
      },
      "text/plain": [
       "Extracting exchange field:   0%|          | 0/165 [00:00<?, ?it/s]"
      ]
     },
     "metadata": {},
     "output_type": "display_data"
    },
    {
     "data": {
      "application/vnd.jupyter.widget-view+json": {
       "model_id": "81374c8e6a564607971cf7d48834b6d8",
       "version_major": 2,
       "version_minor": 0
      },
      "text/plain": [
       "Rotating Exchange field:   0%|          | 0/3 [00:00<?, ?it/s]"
      ]
     },
     "metadata": {},
     "output_type": "display_data"
    },
    {
     "data": {
      "application/vnd.jupyter.widget-view+json": {
       "model_id": "6d68a7ff5f894727971cb8edfd9c58be",
       "version_major": 2,
       "version_minor": 0
      },
      "text/plain": [
       "Setup magnetic entities for rotated hamiltonian:   0%|          | 0/2 [00:00<?, ?it/s]"
      ]
     },
     "metadata": {},
     "output_type": "display_data"
    },
    {
     "data": {
      "application/vnd.jupyter.widget-view+json": {
       "model_id": "c1bd7c411e4c450093a82db05d1d1f83",
       "version_major": 2,
       "version_minor": 0
      },
      "text/plain": [
       "Setup pairs for rotated hamiltonian:   0%|          | 0/2 [00:00<?, ?it/s]"
      ]
     },
     "metadata": {},
     "output_type": "display_data"
    },
    {
     "data": {
      "application/vnd.jupyter.widget-view+json": {
       "model_id": "c01334a176ca404bb64116f879e03b9b",
       "version_major": 2,
       "version_minor": 0
      },
      "text/plain": [
       "Rotation 2, parallel over k on CPU0:   0%|          | 0/100 [00:00<?, ?it/s]"
      ]
     },
     "metadata": {},
     "output_type": "display_data"
    },
    {
     "data": {
      "application/vnd.jupyter.widget-view+json": {
       "model_id": "39b1f5b8e85d4833b4554d46c1d6c436",
       "version_major": 2,
       "version_minor": 0
      },
      "text/plain": [
       "Extracting exchange field:   0%|          | 0/165 [00:00<?, ?it/s]"
      ]
     },
     "metadata": {},
     "output_type": "display_data"
    },
    {
     "data": {
      "application/vnd.jupyter.widget-view+json": {
       "model_id": "d528fffb397440ee911d3b239e01491f",
       "version_major": 2,
       "version_minor": 0
      },
      "text/plain": [
       "Setup perturbations for rotated hamiltonian:   0%|          | 0/2 [00:00<?, ?it/s]"
      ]
     },
     "metadata": {},
     "output_type": "display_data"
    },
    {
     "data": {
      "application/vnd.jupyter.widget-view+json": {
       "model_id": "149e010a494643c9a2616d2b6151a086",
       "version_major": 2,
       "version_minor": 0
      },
      "text/plain": [
       "Extracting exchange field:   0%|          | 0/165 [00:00<?, ?it/s]"
      ]
     },
     "metadata": {},
     "output_type": "display_data"
    },
    {
     "data": {
      "application/vnd.jupyter.widget-view+json": {
       "model_id": "45d5ce2b472f45718029b69c68f6a5ce",
       "version_major": 2,
       "version_minor": 0
      },
      "text/plain": [
       "Setup perturbations for rotated hamiltonian:   0%|          | 0/2 [00:00<?, ?it/s]"
      ]
     },
     "metadata": {},
     "output_type": "display_data"
    },
    {
     "data": {
      "application/vnd.jupyter.widget-view+json": {
       "model_id": "6880eb791ff4463abf259926a2052f22",
       "version_major": 2,
       "version_minor": 0
      },
      "text/plain": [
       "Extracting exchange field:   0%|          | 0/165 [00:00<?, ?it/s]"
      ]
     },
     "metadata": {},
     "output_type": "display_data"
    },
    {
     "data": {
      "application/vnd.jupyter.widget-view+json": {
       "model_id": "97e3c5992f3c4c94bd85ba27db032f36",
       "version_major": 2,
       "version_minor": 0
      },
      "text/plain": [
       "Rotating Exchange field:   0%|          | 0/3 [00:00<?, ?it/s]"
      ]
     },
     "metadata": {},
     "output_type": "display_data"
    },
    {
     "data": {
      "application/vnd.jupyter.widget-view+json": {
       "model_id": "ea81c4392e8b46a5bbf12c61930b01a6",
       "version_major": 2,
       "version_minor": 0
      },
      "text/plain": [
       "Extracting exchange field:   0%|          | 0/165 [00:00<?, ?it/s]"
      ]
     },
     "metadata": {},
     "output_type": "display_data"
    },
    {
     "data": {
      "application/vnd.jupyter.widget-view+json": {
       "model_id": "b6f1df8317cf449db11bcb0baf50becb",
       "version_major": 2,
       "version_minor": 0
      },
      "text/plain": [
       "Rotating Exchange field:   0%|          | 0/3 [00:00<?, ?it/s]"
      ]
     },
     "metadata": {},
     "output_type": "display_data"
    },
    {
     "data": {
      "application/vnd.jupyter.widget-view+json": {
       "model_id": "c8ea747ee7b446ff8554d6c36a124e18",
       "version_major": 2,
       "version_minor": 0
      },
      "text/plain": [
       "Setup magnetic entities for rotated hamiltonian:   0%|          | 0/2 [00:00<?, ?it/s]"
      ]
     },
     "metadata": {},
     "output_type": "display_data"
    },
    {
     "data": {
      "application/vnd.jupyter.widget-view+json": {
       "model_id": "af3b524f54924442b9a65cefc77d02f1",
       "version_major": 2,
       "version_minor": 0
      },
      "text/plain": [
       "Setup pairs for rotated hamiltonian:   0%|          | 0/2 [00:00<?, ?it/s]"
      ]
     },
     "metadata": {},
     "output_type": "display_data"
    },
    {
     "data": {
      "application/vnd.jupyter.widget-view+json": {
       "model_id": "c4e2395c8544444fa4cb8a417451d139",
       "version_major": 2,
       "version_minor": 0
      },
      "text/plain": [
       "Rotation 3, parallel over k on CPU0:   0%|          | 0/100 [00:00<?, ?it/s]"
      ]
     },
     "metadata": {},
     "output_type": "display_data"
    }
   ],
   "source": [
    "Fe3GeTe2.solve()"
   ]
  },
  {
   "cell_type": "markdown",
   "metadata": {},
   "source": [
    "Now the instance parameters are filled with the data from the simulation, so we can \n",
    "output the information. We can print the instance ``Fe3GeTe2`` to get the information of \n",
    "the run and the ``to_magnopy()`` method returns the results in ``magnopy``'s input format.\n"
   ]
  },
  {
   "cell_type": "code",
   "execution_count": null,
   "metadata": {},
   "outputs": [],
   "source": [
    "print(Fe3GeTe2)"
   ]
  },
  {
   "cell_type": "code",
   "execution_count": null,
   "metadata": {},
   "outputs": [],
   "source": [
    "print(Fe3GeTe2.to_magnopy(comments=False))"
   ]
  },
  {
   "cell_type": "markdown",
   "metadata": {},
   "source": [
    "More information can be found in the Tutorials."
   ]
  }
 ],
 "metadata": {
  "kernelspec": {
   "display_name": ".venv",
   "language": "python",
   "name": "python3"
  },
  "language_info": {
   "codemirror_mode": {
    "name": "ipython",
    "version": 3
   },
   "file_extension": ".py",
   "mimetype": "text/x-python",
   "name": "python",
   "nbconvert_exporter": "python",
   "pygments_lexer": "ipython3",
   "version": "3.12.10"
  }
 },
 "nbformat": 4,
 "nbformat_minor": 2
}
