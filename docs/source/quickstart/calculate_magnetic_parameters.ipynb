{
 "cells": [
  {
   "cell_type": "markdown",
   "metadata": {},
   "source": [
    "# Calculate magnetic parameters"
   ]
  },
  {
   "cell_type": "markdown",
   "metadata": {},
   "source": [
    "grogupy is specifically written in a modular way, to fully take advantage of python classes. In this simple example we show how to use grogupy to simulate the magnetic interaction between two atoms from a density functional theory (DFT) calculation and create an output file for [magnopy](https://docs.magnopy.org/en/latest/user-guide/start/about.html). In this example we will use a non-collinear Siesta calculation of the Fe3GeTe2 system with spin-orbit coupling."
   ]
  },
  {
   "cell_type": "markdown",
   "metadata": {},
   "source": [
    "First import grogupy, which will import the most important classes, functions and variables in its namespace."
   ]
  },
  {
   "cell_type": "code",
   "execution_count": 1,
   "metadata": {},
   "outputs": [
    {
     "name": "stderr",
     "output_type": "stream",
     "text": [
      "/Users/danielpozsar/Documents/studies/elte/phd/grogu/.venv/lib/python3.12/site-packages/grogupy/_tqdm.py:32: TqdmExperimentalWarning: Using `tqdm.autonotebook.tqdm` in notebook mode. Use `tqdm.tqdm` instead to force console mode (e.g. in jupyter console)\n",
      "  from tqdm.autonotebook import tqdm\n"
     ]
    }
   ],
   "source": [
    "import grogupy"
   ]
  },
  {
   "cell_type": "markdown",
   "metadata": {},
   "source": [
    "Then we start to create the basic classes based on the desired parameters. First create the ``Kspace`` class which contains the parameters fot the Brillouin zone integration. Because in this case we only take a single layer of Fe3GeTe2 and there is a large vacuum in the perpendicular direction it is sufficient to only \n",
    "integrate in the plane of the material. Furthermore for a fast initial calculation a 10x10 grid of k-points should be enough."
   ]
  },
  {
   "cell_type": "code",
   "execution_count": 2,
   "metadata": {},
   "outputs": [
    {
     "data": {
      "text/plain": [
       "<grogupy.Kspace kset=[10 10  1], NK=100>"
      ]
     },
     "execution_count": 2,
     "metadata": {},
     "output_type": "execute_result"
    }
   ],
   "source": [
    "Fe3GeTe2_kspace = grogupy.Kspace(kset=[10, 10, 1])\n",
    "Fe3GeTe2_kspace"
   ]
  },
  {
   "cell_type": "markdown",
   "metadata": {},
   "source": [
    "Then we would like to set the parameters for the complex integral for the Green's \n",
    "function calculation. This can be done through the ``Contour`` class. Again, for an \n",
    "initial calculation 300 sample points should be enough. The energy minimum should be \n",
    "set below the smallest eigenvalue from the Siesta Hamiltonian.\n"
   ]
  },
  {
   "cell_type": "code",
   "execution_count": 3,
   "metadata": {},
   "outputs": [
    {
     "data": {
      "text/plain": [
       "<grogupy.Contour emin=-20, emax=0, eset=300, esetp=10000>"
      ]
     },
     "execution_count": 3,
     "metadata": {},
     "output_type": "execute_result"
    }
   ],
   "source": [
    "Fe3GeTe2_contour = grogupy.Contour(emin=-15, eset=300, esetp=10000)\n",
    "Fe3GeTe2_contour"
   ]
  },
  {
   "cell_type": "markdown",
   "metadata": {},
   "source": [
    "Then we can create the ``Hamiltonian`` class, which extracts and stores the Hamiltonian \n",
    "and geometrical data from the Siesta files using the ``sisl`` library. Furthermore we must \n",
    "provide the exchange field orientation in the DFT calculation, which is usually the \n",
    "perpendicular direction from the 2D material.\n"
   ]
  },
  {
   "cell_type": "code",
   "execution_count": 4,
   "metadata": {},
   "outputs": [
    {
     "data": {
      "application/vnd.jupyter.widget-view+json": {
       "model_id": "a06874ca973646d2ae0ae38e9c1e28f5",
       "version_major": 2,
       "version_minor": 0
      },
      "text/plain": [
       "Setting up Hamiltonian:   0%|          | 0/243 [00:00<?, ?it/s]"
      ]
     },
     "metadata": {},
     "output_type": "display_data"
    },
    {
     "data": {
      "text/plain": [
       "<grogupy.Hamiltonian scf_xcf_orientation=[0 0 1], orientation=[0 0 1], NO=168>"
      ]
     },
     "execution_count": 4,
     "metadata": {},
     "output_type": "execute_result"
    }
   ],
   "source": [
    "Fe3GeTe2_hamiltonian = grogupy.Hamiltonian(\n",
    "    infile=\"./../../../benchmarks/Fe3GeTe2/Fe3GeTe2.fdf\",\n",
    "    scf_xcf_orientation=[0, 0, 1],\n",
    ")\n",
    "Fe3GeTe2_hamiltonian"
   ]
  },
  {
   "cell_type": "markdown",
   "metadata": {},
   "source": [
    "After these initial steps we can create the ``Builder`` class and initialize with the \n",
    "above information. We have to provide the directions of the rotated exchange field and the \n",
    "two perpendicular directions are calculated automatically.\n"
   ]
  },
  {
   "cell_type": "code",
   "execution_count": 5,
   "metadata": {},
   "outputs": [
    {
     "data": {
      "text/plain": [
       "<grogupy.Builder npairs=0, numk=100, kset=[10 10  1], eset=300>"
      ]
     },
     "execution_count": 5,
     "metadata": {},
     "output_type": "execute_result"
    }
   ],
   "source": [
    "orientations = [[1, 0, 0], [0, 1, 0], [0, 0, 1]]\n",
    "\n",
    "Fe3GeTe2 = grogupy.Builder(ref_xcf_orientations=orientations)\n",
    "Fe3GeTe2.add_kspace(Fe3GeTe2_kspace)\n",
    "Fe3GeTe2.add_contour(Fe3GeTe2_contour)\n",
    "Fe3GeTe2.add_hamiltonian(Fe3GeTe2_hamiltonian)\n",
    "Fe3GeTe2"
   ]
  },
  {
   "cell_type": "markdown",
   "metadata": {},
   "source": [
    "Then we have to define the magnetic entities, which can be a list of orbitals from the \n",
    "Siesta Hamiltonian. We use ``sisl`` functions to extract this information based on a more \n",
    "human like definition. For example take two shells from two Fe atoms.\n"
   ]
  },
  {
   "cell_type": "code",
   "execution_count": 6,
   "metadata": {},
   "outputs": [],
   "source": [
    "magnetic_entities = [dict(atom=3, l=2), dict(atom=4, l=2)]"
   ]
  },
  {
   "cell_type": "markdown",
   "metadata": {},
   "source": [
    "With this information we can create two ``MagneticEntity`` instances.\n"
   ]
  },
  {
   "cell_type": "code",
   "execution_count": 7,
   "metadata": {},
   "outputs": [
    {
     "data": {
      "application/vnd.jupyter.widget-view+json": {
       "model_id": "e02d978d22e044be8eab6ad7c8ae26f1",
       "version_major": 2,
       "version_minor": 0
      },
      "text/plain": [
       "Add magnetic entities:   0%|          | 0/2 [00:00<?, ?it/s]"
      ]
     },
     "metadata": {},
     "output_type": "display_data"
    }
   ],
   "source": [
    "Fe3GeTe2.add_magnetic_entities(magnetic_entities)"
   ]
  },
  {
   "cell_type": "markdown",
   "metadata": {},
   "source": [
    "This would be enough to calculate the anisotropy on both sites, but it is not \n",
    "enough to build a spin model, for this we need the exchange tensor between all the pairs. \n",
    "Generally this can be done in a very similar way. First a list of dictionaries must be \n",
    "created, where each dictionary contains ``ai``, ``aj`` and ``Ruc``, where the first two is the \n",
    "index from the magnetic_entities and the third is the supercell shift of the second \n",
    "magnetic entity.\n"
   ]
  },
  {
   "cell_type": "code",
   "execution_count": 8,
   "metadata": {},
   "outputs": [
    {
     "data": {
      "application/vnd.jupyter.widget-view+json": {
       "model_id": "ba695a0f04f04b47b749282ef80f697f",
       "version_major": 2,
       "version_minor": 0
      },
      "text/plain": [
       "Add pairs:   0%|          | 0/2 [00:00<?, ?it/s]"
      ]
     },
     "metadata": {},
     "output_type": "display_data"
    },
    {
     "data": {
      "text/plain": [
       "<grogupy.Builder npairs=2, numk=100, kset=[10 10  1], eset=300>"
      ]
     },
     "execution_count": 8,
     "metadata": {},
     "output_type": "execute_result"
    }
   ],
   "source": [
    "pairs = [\n",
    "    dict(ai=0, aj=1, Ruc=[0, 0, 0]),\n",
    "    dict(ai=0, aj=1, Ruc=[1, 0, 0]),\n",
    "]\n",
    "Fe3GeTe2.add_pairs(pairs)\n",
    "Fe3GeTe2"
   ]
  },
  {
   "cell_type": "markdown",
   "metadata": {},
   "source": [
    "Now every information is contained in the Fe3GeTe2 instance to run the simulation. \n",
    "There are multiple parameters that can be changed to tune the runtime and the precision \n",
    "of the simulation, but for now let us use the default parameters."
   ]
  },
  {
   "cell_type": "code",
   "execution_count": 9,
   "metadata": {},
   "outputs": [
    {
     "data": {
      "application/vnd.jupyter.widget-view+json": {
       "model_id": "585025e1d392457589a2214779505cf8",
       "version_major": 2,
       "version_minor": 0
      },
      "text/plain": [
       "Extracting exchange field:   0%|          | 0/165 [00:00<?, ?it/s]"
      ]
     },
     "metadata": {},
     "output_type": "display_data"
    },
    {
     "data": {
      "application/vnd.jupyter.widget-view+json": {
       "model_id": "247aa20ed32a4b34b0f975d25086b9ee",
       "version_major": 2,
       "version_minor": 0
      },
      "text/plain": [
       "Rotating Exchange field:   0%|          | 0/3 [00:00<?, ?it/s]"
      ]
     },
     "metadata": {},
     "output_type": "display_data"
    },
    {
     "data": {
      "application/vnd.jupyter.widget-view+json": {
       "model_id": "9d00013d114e473db09d6a39070a1ea8",
       "version_major": 2,
       "version_minor": 0
      },
      "text/plain": [
       "Rotation 1:   0%|          | 0/100 [00:00<?, ?it/s]"
      ]
     },
     "metadata": {},
     "output_type": "display_data"
    },
    {
     "data": {
      "application/vnd.jupyter.widget-view+json": {
       "model_id": "ac253267dbe64bca9d692bfadf2709a9",
       "version_major": 2,
       "version_minor": 0
      },
      "text/plain": [
       "Extracting exchange field:   0%|          | 0/165 [00:00<?, ?it/s]"
      ]
     },
     "metadata": {},
     "output_type": "display_data"
    },
    {
     "data": {
      "application/vnd.jupyter.widget-view+json": {
       "model_id": "f28c579a5a034b02aa6a43cde153dee2",
       "version_major": 2,
       "version_minor": 0
      },
      "text/plain": [
       "Setup perturbations for rotated hamiltonian:   0%|          | 0/2 [00:00<?, ?it/s]"
      ]
     },
     "metadata": {},
     "output_type": "display_data"
    },
    {
     "data": {
      "application/vnd.jupyter.widget-view+json": {
       "model_id": "bb0db05b5e0f471aa6729b0cb491e051",
       "version_major": 2,
       "version_minor": 0
      },
      "text/plain": [
       "Extracting exchange field:   0%|          | 0/165 [00:00<?, ?it/s]"
      ]
     },
     "metadata": {},
     "output_type": "display_data"
    },
    {
     "data": {
      "application/vnd.jupyter.widget-view+json": {
       "model_id": "6980657b1ece42ebb113003cdddd31b6",
       "version_major": 2,
       "version_minor": 0
      },
      "text/plain": [
       "Setup perturbations for rotated hamiltonian:   0%|          | 0/2 [00:00<?, ?it/s]"
      ]
     },
     "metadata": {},
     "output_type": "display_data"
    },
    {
     "data": {
      "application/vnd.jupyter.widget-view+json": {
       "model_id": "1e74bca72d6441c0972d066a6810e51f",
       "version_major": 2,
       "version_minor": 0
      },
      "text/plain": [
       "Extracting exchange field:   0%|          | 0/165 [00:00<?, ?it/s]"
      ]
     },
     "metadata": {},
     "output_type": "display_data"
    },
    {
     "data": {
      "application/vnd.jupyter.widget-view+json": {
       "model_id": "962a8c27cf96418b94703baaea2fcbec",
       "version_major": 2,
       "version_minor": 0
      },
      "text/plain": [
       "Rotating Exchange field:   0%|          | 0/3 [00:00<?, ?it/s]"
      ]
     },
     "metadata": {},
     "output_type": "display_data"
    },
    {
     "data": {
      "application/vnd.jupyter.widget-view+json": {
       "model_id": "797fdf9b27594afcb0c6177c1533804e",
       "version_major": 2,
       "version_minor": 0
      },
      "text/plain": [
       "Rotation 2:   0%|          | 0/100 [00:00<?, ?it/s]"
      ]
     },
     "metadata": {},
     "output_type": "display_data"
    },
    {
     "data": {
      "application/vnd.jupyter.widget-view+json": {
       "model_id": "08dc3870598d4a40b0decf4939cd29cd",
       "version_major": 2,
       "version_minor": 0
      },
      "text/plain": [
       "Extracting exchange field:   0%|          | 0/165 [00:00<?, ?it/s]"
      ]
     },
     "metadata": {},
     "output_type": "display_data"
    },
    {
     "data": {
      "application/vnd.jupyter.widget-view+json": {
       "model_id": "3593c8e4e68342ed8326ca1067e232fd",
       "version_major": 2,
       "version_minor": 0
      },
      "text/plain": [
       "Setup perturbations for rotated hamiltonian:   0%|          | 0/2 [00:00<?, ?it/s]"
      ]
     },
     "metadata": {},
     "output_type": "display_data"
    },
    {
     "data": {
      "application/vnd.jupyter.widget-view+json": {
       "model_id": "3f429369f1a044dd87508d7ec604529a",
       "version_major": 2,
       "version_minor": 0
      },
      "text/plain": [
       "Extracting exchange field:   0%|          | 0/165 [00:00<?, ?it/s]"
      ]
     },
     "metadata": {},
     "output_type": "display_data"
    },
    {
     "data": {
      "application/vnd.jupyter.widget-view+json": {
       "model_id": "89d7985cec7e4e809f54cf3c9bb18dde",
       "version_major": 2,
       "version_minor": 0
      },
      "text/plain": [
       "Setup perturbations for rotated hamiltonian:   0%|          | 0/2 [00:00<?, ?it/s]"
      ]
     },
     "metadata": {},
     "output_type": "display_data"
    },
    {
     "data": {
      "application/vnd.jupyter.widget-view+json": {
       "model_id": "c67eb2a256874bb2b19322f68eb47b3a",
       "version_major": 2,
       "version_minor": 0
      },
      "text/plain": [
       "Rotation 3:   0%|          | 0/100 [00:00<?, ?it/s]"
      ]
     },
     "metadata": {},
     "output_type": "display_data"
    },
    {
     "data": {
      "application/vnd.jupyter.widget-view+json": {
       "model_id": "993ee602072b4ccaba415fb66dba1d23",
       "version_major": 2,
       "version_minor": 0
      },
      "text/plain": [
       "Extracting exchange field:   0%|          | 0/165 [00:00<?, ?it/s]"
      ]
     },
     "metadata": {},
     "output_type": "display_data"
    },
    {
     "data": {
      "application/vnd.jupyter.widget-view+json": {
       "model_id": "2cfb54b8bc064efeb7974a572a85e057",
       "version_major": 2,
       "version_minor": 0
      },
      "text/plain": [
       "Setup perturbations for rotated hamiltonian:   0%|          | 0/2 [00:00<?, ?it/s]"
      ]
     },
     "metadata": {},
     "output_type": "display_data"
    },
    {
     "data": {
      "application/vnd.jupyter.widget-view+json": {
       "model_id": "f3b0d161f4344ce5ac7eee22ca4a8edc",
       "version_major": 2,
       "version_minor": 0
      },
      "text/plain": [
       "Extracting exchange field:   0%|          | 0/165 [00:00<?, ?it/s]"
      ]
     },
     "metadata": {},
     "output_type": "display_data"
    },
    {
     "data": {
      "application/vnd.jupyter.widget-view+json": {
       "model_id": "755ad400d4e4408f848cd8bfd6aee27f",
       "version_major": 2,
       "version_minor": 0
      },
      "text/plain": [
       "Setup perturbations for rotated hamiltonian:   0%|          | 0/2 [00:00<?, ?it/s]"
      ]
     },
     "metadata": {},
     "output_type": "display_data"
    },
    {
     "name": "stderr",
     "output_type": "stream",
     "text": [
      "/Users/danielpozsar/Documents/studies/elte/phd/grogu/.venv/lib/python3.12/site-packages/grogupy/physics/utilities.py:527: UserWarning: This is experimenal!\n",
      "  warnings.warn(\"This is experimenal!\")\n",
      "/Users/danielpozsar/Documents/studies/elte/phd/grogu/.venv/lib/python3.12/site-packages/grogupy/physics/utilities.py:669: UserWarning: This is experimenal!\n",
      "  warnings.warn(\"This is experimenal!\")\n"
     ]
    }
   ],
   "source": [
    "Fe3GeTe2.solve()"
   ]
  },
  {
   "cell_type": "markdown",
   "metadata": {},
   "source": [
    "Now the instance parameters are filled with the data from the simulation, so we can \n",
    "output the information. We can print the instance ``Fe3GeTe2`` to get the information of \n",
    "the run and the ``to_magnopy()`` method returns the results in ``magnopy``'s input format.\n"
   ]
  },
  {
   "cell_type": "code",
   "execution_count": 10,
   "metadata": {},
   "outputs": [
    {
     "name": "stdout",
     "output_type": "stream",
     "text": [
      "================================================================================\n",
      "grogupy version: 0.0.14\n",
      "Input file: ./../../../benchmarks/Fe3GeTe2/Fe3GeTe2.fdf\n",
      "Spin mode: SPIN-ORBIT\n",
      "Number of orbitals: 168\n",
      "================================================================================\n",
      "SLURM job ID: Could not be determined.\n",
      "Architecture: CPU\n",
      "Number of threads in the parallel cluster: 1\n",
      "Parallelization is over: Nothing\n",
      "Solver used for Greens function calculation: Parallel\n",
      "Maximum number of Greens function samples per batch: 300\n",
      "Spin model: generalised-fit\n",
      "================================================================================\n",
      "Cell [Ang]:\n",
      "3.791001511088653242e+00 0.000000000000000000e+00 0.000000000000000000e+00\n",
      "-1.895500755544326621e+00 3.283103614407953064e+00 0.000000000000000000e+00\n",
      "0.000000000000000000e+00 0.000000000000000000e+00 2.057000819825037041e+01\n",
      "================================================================================\n",
      "DFT axis: [0 0 1]\n",
      "Quantization axis and perpendicular rotation directions:\n",
      "[1. 0. 0.] --> [[ 0.  0. -1.]\n",
      " [ 0.  1.  0.]]\n",
      "[0. 1. 0.] --> [[ 1.  0.  0.]\n",
      " [ 0.  0. -1.]]\n",
      "[0. 0. 1.] --> [[1. 0. 0.]\n",
      " [0. 1. 0.]]\n",
      "================================================================================\n",
      "Parameters for the Brillouin zone sampling:\n",
      "Number of k points: 100\n",
      "K points in each directions: [10 10  1]\n",
      "Parameters for the contour integral:\n",
      "Eset: 300\n",
      "Esetp: 10000\n",
      "Ebot: -20\n",
      "Etop: 0\n",
      "================================================================================\n",
      "\n"
     ]
    }
   ],
   "source": [
    "print(Fe3GeTe2)"
   ]
  },
  {
   "cell_type": "code",
   "execution_count": 11,
   "metadata": {},
   "outputs": [
    {
     "name": "stdout",
     "output_type": "stream",
     "text": [
      "================================================================================\n",
      "cell Angstrom\n",
      "3.791001511088653242e+00 0.000000000000000000e+00 0.000000000000000000e+00\n",
      "-1.895500755544326621e+00 3.283103614407953064e+00 0.000000000000000000e+00\n",
      "0.000000000000000000e+00 0.000000000000000000e+00 2.057000819825037041e+01\n",
      "================================================================================\n",
      "atoms Angstrom\n",
      "name\tx\ty\tz\tSx\tSy\tSz\t# Q\n",
      "3Fe(l:2) 1.981762848288204e-06 -9.134332829322269e-08 11.653315176909826 6.447254726229378e-05 -0.0005169351977350883 2.011394399384453 # 8.523586381595468\n",
      "4Fe(l:2) 1.990383996147767e-06 -1.089291427685217e-07 8.916695475519404 -6.171573052964394e-05 0.000512053681777345 2.0114468209146024 # 8.523557236125843\n",
      "================================================================================\n",
      "notation\n",
      "double-counting True\n",
      "spin-normalized True\n",
      "exchange-factor 0.5\n",
      "on-site-factor 1\n",
      "================================================================================\n",
      "exchange meV\n",
      "--------------------------------------------------------------------------------\n",
      "3Fe(l:2) 4Fe(l:2) 0 0 0 # distance [Ang]: 2.7366197013904223\n",
      "isotropic -59.85716462279414\n",
      "DMI 2.436840485005341 0.014187092783614057 4.322177760116366e-08 # Dx Dy Dz\n",
      "symmetric-anisotropy 7.418704286437411 -17.166667476207067 7.711382752243433e-05 -0.015536801936793711 2.4364059494482864 # Sxx Syy Sxy Sxz Syz\n",
      "--------------------------------------------------------------------------------\n",
      "3Fe(l:2) 4Fe(l:2) 1 0 0 # distance [Ang]: 4.675551295032514\n",
      "isotropic -5.123583038911699\n",
      "DMI 2.693079093979248 1.148516539553179 5.230905381213952 # Dx Dy Dz\n",
      "symmetric-anisotropy 2.099656316340668 0.2338627139386116 5.2309092751842705 -0.3293938893776426 2.6937771914387367 # Sxx Syy Sxy Sxz Syz\n",
      "--------------------------------------------------------------------------------\n",
      "================================================================================\n",
      "on-site meV\n",
      "--------------------------------------------------------------------------------\n",
      "3Fe(l:2)\n",
      "0.4925035491234427 0.786730305793438 0.0 -1.7063362411031885e-05 0.00039155437003386527 -0.11774267220571923 # Kxx Kyy Kzz Kxy Kxz Kyz\n",
      "--------------------------------------------------------------------------------\n",
      "4Fe(l:2)\n",
      "-0.1035880607295235 0.4909425180629276 0.0 -1.7641565150565007e-05 0.0003546238097782002 0.11921380077111919 # Kxx Kyy Kzz Kxy Kxz Kyz\n",
      "--------------------------------------------------------------------------------\n",
      "================================================================================\n",
      "\n"
     ]
    }
   ],
   "source": [
    "print(Fe3GeTe2.to_magnopy(comments=False))"
   ]
  },
  {
   "cell_type": "markdown",
   "metadata": {},
   "source": [
    "More information can be found in the Tutorials."
   ]
  }
 ],
 "metadata": {
  "kernelspec": {
   "display_name": ".venv",
   "language": "python",
   "name": "python3"
  },
  "language_info": {
   "codemirror_mode": {
    "name": "ipython",
    "version": 3
   },
   "file_extension": ".py",
   "mimetype": "text/x-python",
   "name": "python",
   "nbconvert_exporter": "python",
   "pygments_lexer": "ipython3",
   "version": "3.12.10"
  }
 },
 "nbformat": 4,
 "nbformat_minor": 2
}
